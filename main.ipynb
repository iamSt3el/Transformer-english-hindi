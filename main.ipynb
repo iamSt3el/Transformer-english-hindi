{
 "cells": [
  {
   "cell_type": "code",
   "execution_count": 25,
   "metadata": {},
   "outputs": [],
   "source": [
    "import pandas as pd\n",
    "import re\n",
    "from tqdm import tqdm\n",
    "import copy\n",
    "from sklearn.model_selection import train_test_split"
   ]
  },
  {
   "cell_type": "markdown",
   "metadata": {},
   "source": [
    "# Code to remove sentence and clean text"
   ]
  },
  {
   "cell_type": "code",
   "execution_count": 5,
   "metadata": {},
   "outputs": [],
   "source": [
    "import re\n",
    "import copy\n",
    "\n",
    "# Importing contractions\n",
    "\n",
    "with open(\"contractions.txt\", \"r\") as inp_cont:\n",
    "    contractions_list = inp_cont.read()\n",
    "contractions_list = [re.sub('[\"]', '', x).split(\":\") for x in re.sub(r\"\\s+\", \" \", re.sub(r\"(.*{)|(}.*)\", '', contractions_list)).split(',')]\n",
    "contractions_dict = dict((k.lower().strip(), re.sub('/.*', '', v).lower().strip()) for k, v in contractions_list)\n",
    "\n",
    "def remove_sc(_line, lang=\"en\"):\n",
    "    # _line = copy.deepcopy(_line)\n",
    "    if lang == \"hi\":\n",
    "        _line = re.sub(r'[+\\-*/#@%>=;~{}×–`’\"()_]', \"\", _line)\n",
    "        _line = re.sub(r\"(?:(\\[)|(\\])|(‘‘)|(’’))\", '', _line)\n",
    "    elif lang == \"en\":\n",
    "        _line = re.sub(r'[+\\-*/#@%>=;~{}×–`’\"()_|:]', \"\", _line)\n",
    "        _line = re.sub(r\"(?:(\\[)|(\\])|(‘‘)|(’’))\", '', _line)\n",
    "    return _line\n",
    "\n",
    "\n",
    "def clean_text(_text, lang=\"en\"):\n",
    "    # _text = copy.deepcopy(_text)\n",
    "    if lang == \"en\":\n",
    "        _text = remove_sc(_line=_text, lang=lang)\n",
    "        for cn in contractions_dict:\n",
    "            _text = re.sub(cn, contractions_dict[cn], _text)\n",
    "    elif lang == \"hi\":\n",
    "        _text = remove_sc(_line=_text, lang=lang)\n",
    "    return _text"
   ]
  },
  {
   "cell_type": "code",
   "execution_count": 7,
   "metadata": {},
   "outputs": [],
   "source": [
    "df = pd.read_csv(\"cleaned_hindi_english_parallel.csv\")\n",
    "\n",
    "hindi_text = df['hindi']\n",
    "english_text = df['english']"
   ]
  },
  {
   "cell_type": "code",
   "execution_count": 8,
   "metadata": {},
   "outputs": [
    {
     "name": "stdout",
     "output_type": "stream",
     "text": [
      "<bound method NDFrame.head of 0           अपने अनुप्रयोग को पहुंचनीयता व्यायाम का लाभ दें\n",
      "1                           एक्सेर्साइसर पहुंचनीयता अन्वेषक\n",
      "2                     निचले पटल के लिए डिफोल्ट प्लग-इन खाका\n",
      "3                      ऊपरी पटल के लिए डिफोल्ट प्लग-इन खाका\n",
      "4         उन प्लग-इनों की सूची जिन्हें डिफोल्ट रूप से नि...\n",
      "                                ...                        \n",
      "953721    भारत अपनी 64 प्रतिशत कार्यशील आयु समूह आबादी क...\n",
      "953722                      members making oath/affirmation\n",
      "953723    मैंने गौर किया है कि यह न केवल अपने महत्त्वपूर...\n",
      "953724    उन्होंने मेरे समक्ष जो प्रदर्शन किया उसमें से ...\n",
      "953725    खाद्य और जल सुरक्षा; पर्यावरण की दृष्टि से वहन...\n",
      "Name: hindi, Length: 953726, dtype: object>\n",
      "<bound method NDFrame.head of 0            give your application an accessibility workout\n",
      "1                         accerciser accessibility explorer\n",
      "2            the default plugin layout for the bottom panel\n",
      "3               the default plugin layout for the top panel\n",
      "4            a list of plugins that are disabled by default\n",
      "                                ...                        \n",
      "953721    प्राप्त होगी। by 2020, india is set to become ...\n",
      "953722                  शपथ लेने/प्रतिज्ञान करने वाले सदस्य\n",
      "953723    है। i note that this is a landmark meeting – n...\n",
      "953724    है। in the presentations that they made before...\n",
      "953725    ्त है। issues such as food and water security;...\n",
      "Name: english, Length: 953726, dtype: object>\n"
     ]
    }
   ],
   "source": [
    "print(hindi_text.head)\n",
    "print(english_text.head)"
   ]
  },
  {
   "cell_type": "code",
   "execution_count": 9,
   "metadata": {},
   "outputs": [
    {
     "name": "stderr",
     "output_type": "stream",
     "text": [
      "953726it [00:01, 482827.51it/s]\n"
     ]
    }
   ],
   "source": [
    "# Removing English sentences from hindi sentences\n",
    "ids_to_remove = {}\n",
    "for _id, _t in tqdm(enumerate(hindi_text)):\n",
    "    if len(re.findall(r'[a-zA-Z]', _t)) > 0:\n",
    "        ids_to_remove[_id] = _t\n",
    "    else:\n",
    "        pass"
   ]
  },
  {
   "cell_type": "code",
   "execution_count": 10,
   "metadata": {},
   "outputs": [
    {
     "name": "stderr",
     "output_type": "stream",
     "text": [
      "100%|██████████| 904975/904975 [00:04<00:00, 219939.63it/s]\n"
     ]
    }
   ],
   "source": [
    "ids_to_keep = [i for i in range(len(hindi_text)) if i not in ids_to_remove.keys()]\n",
    "\n",
    "filtered_eng_text = []\n",
    "filtered_hindi_text = []\n",
    "for _id in tqdm(ids_to_keep):\n",
    "    filtered_eng_text.append(english_text[_id].lower())\n",
    "    filtered_hindi_text.append(hindi_text[_id])"
   ]
  },
  {
   "cell_type": "code",
   "execution_count": 15,
   "metadata": {},
   "outputs": [
    {
     "name": "stderr",
     "output_type": "stream",
     "text": [
      "100%|██████████| 904975/904975 [02:42<00:00, 5571.89it/s]\n"
     ]
    }
   ],
   "source": [
    "#Treating english sentences\n",
    "clean_eng_text = []\n",
    "for sent in tqdm(filtered_eng_text):\n",
    "    clean_eng_text.append(clean_text(_text=copy.deepcopy(sent), lang=\"en\"))\n",
    "    \n"
   ]
  },
  {
   "cell_type": "code",
   "execution_count": 19,
   "metadata": {},
   "outputs": [
    {
     "name": "stderr",
     "output_type": "stream",
     "text": [
      "100%|██████████| 904975/904975 [00:08<00:00, 109276.45it/s]\n"
     ]
    }
   ],
   "source": [
    "#Treating hindi sentences\n",
    "clean_hindi_text = []\n",
    "for sent in tqdm(filtered_hindi_text):\n",
    "    clean_hindi_text.append(clean_text(_text=copy.deepcopy(sent), lang=\"hi\"))"
   ]
  },
  {
   "cell_type": "code",
   "execution_count": 20,
   "metadata": {},
   "outputs": [],
   "source": [
    "clean_data = pd.DataFrame({'eng_text':clean_eng_text, 'hindi_text':clean_hindi_text})"
   ]
  },
  {
   "cell_type": "code",
   "execution_count": 21,
   "metadata": {},
   "outputs": [
    {
     "data": {
      "text/plain": [
       "<bound method NDFrame.head of                                                  eng_text  \\\n",
       "0          give your application an accessibility workout   \n",
       "1                       accerciser accessibility explorer   \n",
       "2          the default plugin layout for the bottom panel   \n",
       "3             the default plugin layout for the top panel   \n",
       "4          a list of plugins that are disabled by default   \n",
       "...                                                   ...   \n",
       "904970  कते हैं। opening of a finnode centre in delhi ...   \n",
       "904971  प्राप्त होगी। by 2020, india is set to become ...   \n",
       "904972  है। i note that this is a landmark meeting  no...   \n",
       "904973  है। in the presentations that they made before...   \n",
       "904974  ्त है। issues such as food and water security ...   \n",
       "\n",
       "                                               hindi_text  \n",
       "0         अपने अनुप्रयोग को पहुंचनीयता व्यायाम का लाभ दें  \n",
       "1                         एक्सेर्साइसर पहुंचनीयता अन्वेषक  \n",
       "2                    निचले पटल के लिए डिफोल्ट प्लगइन खाका  \n",
       "3                     ऊपरी पटल के लिए डिफोल्ट प्लगइन खाका  \n",
       "4       उन प्लगइनों की सूची जिन्हें डिफोल्ट रूप से निष...  \n",
       "...                                                   ...  \n",
       "904970  सितम्बर, 2014में दिल्ली में फिननोड केंद्र की श...  \n",
       "904971  भारत अपनी 64 प्रतिशत कार्यशील आयु समूह आबादी क...  \n",
       "904972  मैंने गौर किया है कि यह न केवल अपने महत्त्वपूर...  \n",
       "904973  उन्होंने मेरे समक्ष जो प्रदर्शन किया उसमें से ...  \n",
       "904974  खाद्य और जल सुरक्षा पर्यावरण की दृष्टि से वहनी...  \n",
       "\n",
       "[904975 rows x 2 columns]>"
      ]
     },
     "execution_count": 21,
     "metadata": {},
     "output_type": "execute_result"
    }
   ],
   "source": [
    "clean_data.head"
   ]
  },
  {
   "cell_type": "markdown",
   "metadata": {},
   "source": [
    "## Filtering data based on sentence length"
   ]
  },
  {
   "cell_type": "code",
   "execution_count": 22,
   "metadata": {},
   "outputs": [],
   "source": [
    "clean_data[\"eng_len\"] = clean_data.eng_text.str.count(\"\")\n",
    "clean_data['hindi_len'] = clean_data.hindi_text.str.count(\"\")\n",
    "small_len_data = clean_data.query('eng_len < 50 & hindi_len < 50')"
   ]
  },
  {
   "cell_type": "code",
   "execution_count": 26,
   "metadata": {},
   "outputs": [],
   "source": [
    "#Train_Val split\n",
    "#Full set\n",
    "\n",
    "train_set, val_set = train_test_split(small_len_data.loc[:, ['eng_text','hindi_text']], test_size=0.1)\n",
    "train_set.to_csv(\"train.csv\", index=False)\n",
    "val_set.to_csv(\"val.csv\", index=False)"
   ]
  },
  {
   "cell_type": "code",
   "execution_count": 27,
   "metadata": {},
   "outputs": [],
   "source": [
    "small_data = small_len_data.loc[:, [\"eng_text\", \"hindi_text\"]].sample(n=150000)\n",
    "train_set_sm, val_set_sm = train_test_split(small_data, test_size=0.3)\n",
    "train_set_sm.to_csv(\"train_sm.csv\", index=False)\n",
    "val_set_sm.to_csv(\"val_sm.csv\", index=False)"
   ]
  }
 ],
 "metadata": {
  "kernelspec": {
   "display_name": "venv",
   "language": "python",
   "name": "python3"
  },
  "language_info": {
   "codemirror_mode": {
    "name": "ipython",
    "version": 3
   },
   "file_extension": ".py",
   "mimetype": "text/x-python",
   "name": "python",
   "nbconvert_exporter": "python",
   "pygments_lexer": "ipython3",
   "version": "3.12.5"
  }
 },
 "nbformat": 4,
 "nbformat_minor": 2
}
